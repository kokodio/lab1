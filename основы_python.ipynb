{
  "cells": [
    {
      "cell_type": "markdown",
      "metadata": {
        "id": "M-DGa20PaHnu"
      },
      "source": [
        "#Задача 1\n",
        "Написать функцию на вход которой подается строка, состоящая из латинских букв.\n",
        "Функция должна вернуть количество гласных букв (a, e, i, o, u) в этой строке. Написать тесты для кода"
      ]
    },
    {
      "cell_type": "code",
      "execution_count": 10,
      "metadata": {
        "id": "XvX8X_JJ6PCb"
      },
      "outputs": [],
      "source": [
        "def count_vowels(s: str) -> int:\n",
        "    vowels = {'a', 'e', 'i', 'o', 'u'}\n",
        "    return sum(1 for char in s.lower() if char in vowels)\n",
        "\n",
        "assert count_vowels(\"aeiou\") == 5\n",
        "assert count_vowels(\"aeiog\") == 4\n",
        "assert count_vowels(\"AeIoU\") == 5\n",
        "assert count_vowels(\"AeIoA\" * 2) == 10\n",
        "assert count_vowels(\"jhkskdh\") == 0"
      ]
    },
    {
      "cell_type": "markdown",
      "metadata": {
        "id": "t2ClV_Y0bbr6"
      },
      "source": [
        "# Задача 2\n",
        "Написать функцию на вход, которой подается строка. Функция должна вернуть true, если\n",
        "каждый символ в строке встречается только 1 раз, иначе должна вернуть false. Написать тесты для кода"
      ]
    },
    {
      "cell_type": "code",
      "execution_count": 12,
      "metadata": {
        "id": "FppbECao6VIz"
      },
      "outputs": [],
      "source": [
        "def unique_letters(s: str) -> bool:\n",
        "    letters = set()\n",
        "\n",
        "    for letter in s:\n",
        "        if letter in letters:\n",
        "            return False\n",
        "        letters.add(letter)\n",
        "    return True\n",
        "\n",
        "assert unique_letters('qwe') == True\n",
        "assert unique_letters('qweq') == False\n",
        "assert unique_letters('') == True\n",
        "assert unique_letters('1') == True"
      ]
    },
    {
      "cell_type": "markdown",
      "metadata": {
        "id": "udRiIK1cdt6E"
      },
      "source": [
        "# Задача 3\n",
        "Написать функцию, которая принимает положительное число и возвращает количество\n",
        "бит равных 1 в этом числе. Написать тесты для кода"
      ]
    },
    {
      "cell_type": "code",
      "execution_count": 15,
      "metadata": {
        "id": "6tkfDJRz6dp_"
      },
      "outputs": [],
      "source": [
        "def count_bits(n: int) -> int:\n",
        "    return bin(n).count('1')\n",
        "\n",
        "assert count_bits(0) == 0\n",
        "assert count_bits(1) == 1\n",
        "assert count_bits(2) == 1\n",
        "assert count_bits(3) == 2\n",
        "assert count_bits(4) == 1\n",
        "assert count_bits(7) == 3"
      ]
    },
    {
      "cell_type": "markdown",
      "metadata": {
        "id": "26dDUz-Ae17N"
      },
      "source": [
        "# Задача 4\n",
        "Написать функцию, которая принимает положительное число. Функция должна вернуть то,\n",
        "сколько раз необходимо перемножать цифры числа или результат перемножения, чтобы\n",
        "получилось число состоящее из одной цифры.\n",
        "Например, для входного числа:\n",
        "· 39 функция должна вернуть 3, так как 3*9=27 => 2*7=14 => 1*4=4\n",
        "· 4 функция должна вернуть 0, так как число уже состоит из одной цифры\n",
        "· 999 функция должна вернуть 4, так как 9*9*9=729 => 7*2*9=126 => 1*2*6=12 =>\n",
        "1*2=2. Написать тесты для кода"
      ]
    },
    {
      "cell_type": "code",
      "execution_count": 38,
      "metadata": {
        "id": "BH1A_Mgi6i4G"
      },
      "outputs": [],
      "source": [
        "from functools import reduce\n",
        "\n",
        "def magic(n):\n",
        "    count = 0\n",
        "\n",
        "    while n > 9:\n",
        "        n = reduce((lambda x, y: x * y), [int(x) for x in str(n)])\n",
        "        count += 1\n",
        "    return count\n",
        "\n",
        "assert magic(39) == 3\n",
        "assert magic(4) == 0\n",
        "assert magic(999) == 4\n",
        "assert magic(10) == 1"
      ]
    },
    {
      "cell_type": "markdown",
      "metadata": {
        "id": "0nS-kIa8g8vd"
      },
      "source": [
        "# Задача 5\n",
        "Написать функцию, которая принимает два целочисленных вектора одинаковой длины и\n",
        "возвращает среднеквадратическое отклонение двух векторов. Написать тесты для кода"
      ]
    },
    {
      "cell_type": "code",
      "execution_count": 47,
      "metadata": {
        "id": "8iphx4LM6xbx"
      },
      "outputs": [],
      "source": [
        "def mse(pred, true):\n",
        "    sum = 0\n",
        "\n",
        "    for i in range(len(pred)):\n",
        "        sum += (pred[i] - true[i])**2\n",
        "    return sum/len(pred)\n",
        "\n",
        "assert mse([1, 2, 3], [1, 2, 3]) == 0\n",
        "assert mse([1, 2, 3], [4, 5, 6]) == 9\n",
        "assert abs(mse([1, 2, 3], [3, 2, 1]) - 2.666666) < 0.0001\n",
        "\n"
      ]
    },
    {
      "cell_type": "markdown",
      "metadata": {
        "id": "vpIPKL439zkw"
      },
      "source": [
        "# Задача 6\n",
        "Написать функцию, принимающая целое положительное число. Функция должна вернуть\n",
        "строку вида “(n1**p1)(n2**p2)…(nk**pk)” представляющая разложение числа на простые\n",
        "множители (если pi == 1, то выводить только ni).\n",
        "Например, для числа 86240 функция должна вернуть “(2**5)(5)(7**2)(11)”. Написать тесты для кода"
      ]
    },
    {
      "cell_type": "code",
      "execution_count": 98,
      "metadata": {
        "id": "pFebmcZk94Jw"
      },
      "outputs": [],
      "source": [
        "def prime_factors(n: int) -> str:\n",
        "    i = 2\n",
        "    factors = dict()\n",
        "    while i * i <= n:\n",
        "        if n % i:\n",
        "            i += 1\n",
        "        else:\n",
        "            n //= i\n",
        "            if i in factors.keys(): factors[i] += 1\n",
        "            else: factors[i] = 1\n",
        "    if n > 1:\n",
        "        factors[n] = 1\n",
        "    return ''.join(f'({i}**{factors[i]})' if factors[i] > 1 else f'({i})' for i in factors)\n",
        "\n",
        "\n",
        "assert prime_factors(86240) == \"(2**5)(5)(7**2)(11)\"\n",
        "assert prime_factors(10) == \"(2)(5)\"\n",
        "assert prime_factors(1234) == \"(2)(617)\"\n",
        "assert prime_factors(192) == \"(2**6)(3)\"\n"
      ]
    },
    {
      "cell_type": "markdown",
      "metadata": {
        "id": "ps2s0BudX7A2"
      },
      "source": [
        "# Задача 7\n",
        "Написать функцию, принимающая целое число n, задающее количество кубиков. Функция\n",
        "должна определить, можно ли из данного кол-ва кубиков построить пирамиду, то есть\n",
        "можно ли представить число n как 1^2+2^2+3^2+…+k^2. Если можно, то функция должна\n",
        "вернуть k, иначе строку “It is impossible”. Написать тесты для кода"
      ]
    },
    {
      "cell_type": "code",
      "execution_count": 110,
      "metadata": {
        "id": "3YPjEXxhX_YT"
      },
      "outputs": [],
      "source": [
        "def pyramid(number):\n",
        "    if number < 1: return \"It is impossible\"\n",
        "    \n",
        "    k = 0\n",
        "\n",
        "    while number > 0:\n",
        "        k += 1\n",
        "        number -= k ** 2\n",
        "    return k if number == 0 else \"It is impossible\"\n",
        "\n",
        "assert pyramid(0) == \"It is impossible\"\n",
        "assert pyramid(1) == 1\n",
        "assert pyramid(3) == \"It is impossible\"\n",
        "assert pyramid(5) == 2\n",
        "assert pyramid(7) == \"It is impossible\"\n",
        "assert pyramid(8) == \"It is impossible\"\n",
        "assert pyramid(14) == 3"
      ]
    },
    {
      "cell_type": "markdown",
      "metadata": {
        "id": "KeKgmIdAQMEJ"
      },
      "source": [
        "# Задача 8\n",
        "Функция принимает на вход положительное число и определяет является ли оно сбалансированным, т.е. сумма цифр до средних равна сумме цифр после. Средними в случае нечетного числа цифр считать одну цифру, в случае четного - две средних. Написать тесты для кода"
      ]
    },
    {
      "cell_type": "code",
      "execution_count": 114,
      "metadata": {
        "id": "gMAAqtqlQrZt"
      },
      "outputs": [],
      "source": [
        "def is_balanced(n: int) -> bool:\n",
        "    s = str(n)\n",
        "    length = len(s)\n",
        "    mid = length // 2\n",
        "    if length % 2 == 0:\n",
        "        left = s[:mid-1]\n",
        "        right = s[mid+1:]\n",
        "    else:\n",
        "        left = s[:mid]\n",
        "        right = s[mid+1:]\n",
        "    return sum(int(digit) for digit in left) == sum(int(digit) for digit in right)\n",
        "\n",
        "assert is_balanced(123321) == True\n",
        "assert is_balanced(12521) == True\n",
        "assert is_balanced(14321) == False\n",
        "assert is_balanced(123421) == True\n",
        "assert is_balanced(143421) == False\n",
        "assert is_balanced(143423) == True\n",
        "assert is_balanced(12345) == False"
      ]
    }
  ],
  "metadata": {
    "colab": {
      "provenance": []
    },
    "kernelspec": {
      "display_name": "Python 3",
      "name": "python3"
    },
    "language_info": {
      "codemirror_mode": {
        "name": "ipython",
        "version": 3
      },
      "file_extension": ".py",
      "mimetype": "text/x-python",
      "name": "python",
      "nbconvert_exporter": "python",
      "pygments_lexer": "ipython3",
      "version": "3.10.12"
    }
  },
  "nbformat": 4,
  "nbformat_minor": 0
}
